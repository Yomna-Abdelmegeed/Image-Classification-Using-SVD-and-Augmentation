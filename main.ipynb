{
 "cells": [
  {
   "cell_type": "code",
   "execution_count": 1,
   "id": "62f507f8",
   "metadata": {},
   "outputs": [],
   "source": [
    "import numpy as np\n",
    "import matplotlib.pyplot as plt\n",
    "import seaborn as sns\n",
    "import os\n",
    "from skimage.exposure import equalize_hist\n",
    "from skimage import io, color\n",
    "from skimage.transform import rotate\n",
    "from skimage.transform import resize\n",
    "from skimage.transform import rescale\n",
    "from skimage.exposure import adjust_gamma\n",
    "from sklearn.model_selection import StratifiedShuffleSplit\n",
    "from numpy.linalg import svd\n",
    "from scipy.optimize import minimize\n",
    "from sklearn.metrics import confusion_matrix, classification_report\n",
    "from sklearn.model_selection import train_test_split"
   ]
  },
  {
   "cell_type": "code",
   "execution_count": null,
   "id": "444a82d1",
   "metadata": {},
   "outputs": [],
   "source": [
    "# Define paths to the folders containing images\n",
    "boxer_folder = 'boxer'\n",
    "persian_cat_folder = 'persian_cat'\n",
    "\n",
    "#image_size = (256, 256)  # Resize all images to this size\n",
    "image_size = (64, 64) \n",
    "\n",
    "# Function to load and preprocess images from a folder\n",
    "def load_images(folder_path, image_size):\n",
    "    images = []\n",
    "    for filename in os.listdir(folder_path):\n",
    "        if filename.endswith(('.jpg', '.JPG', '.jpeg')):\n",
    "            img = io.imread(os.path.join(folder_path, filename))\n",
    "\n",
    "            # Ensure the image is RGB (3 channels) by removing an alpha channel if it exists\n",
    "            if img.shape[-1] == 4:\n",
    "                img = img[..., :3]  # Keep only the first 3 channels (RGB)\n",
    "\n",
    "            img_gray = color.rgb2gray(img)  # Convert to grayscale\n",
    "            img_resized = resize(img_gray, image_size)  # Resize\n",
    "            images.append(img_resized)  # Store resized image\n",
    "    return np.array(images)  # converts the list of images to a NumPy array"
   ]
  }
 ],
 "metadata": {
  "kernelspec": {
   "display_name": "env",
   "language": "python",
   "name": "python3"
  },
  "language_info": {
   "codemirror_mode": {
    "name": "ipython",
    "version": 3
   },
   "file_extension": ".py",
   "mimetype": "text/x-python",
   "name": "python",
   "nbconvert_exporter": "python",
   "pygments_lexer": "ipython3",
   "version": "3.13.3"
  }
 },
 "nbformat": 4,
 "nbformat_minor": 5
}
